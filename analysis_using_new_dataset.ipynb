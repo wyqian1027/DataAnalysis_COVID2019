{
 "cells": [
  {
   "cell_type": "code",
   "execution_count": 1,
   "metadata": {},
   "outputs": [],
   "source": [
    "import numpy as np\n",
    "import pandas as pd\n",
    "import os\n",
    "\n",
    "from matplotlib import pyplot as plt\n",
    "%matplotlib inline"
   ]
  },
  {
   "cell_type": "code",
   "execution_count": 2,
   "metadata": {},
   "outputs": [
    {
     "data": {
      "text/plain": [
       "'/Users/wenyang/PROJECT_MASTER/DataAnalysis_COVID2019'"
      ]
     },
     "execution_count": 2,
     "metadata": {},
     "output_type": "execute_result"
    }
   ],
   "source": [
    "os.getcwd()"
   ]
  },
  {
   "cell_type": "code",
   "execution_count": 42,
   "metadata": {},
   "outputs": [],
   "source": [
    "confirmed_df = pd.read_csv(\"COVID-19-master/csse_covid_19_data/csse_covid_19_time_series/time_series_19-covid-Confirmed.csv\")\n",
    "death_df = pd.read_csv(\"COVID-19-master/csse_covid_19_data/csse_covid_19_time_series/time_series_19-covid-Deaths.csv\")\n",
    "recover_df = pd.read_csv(\"COVID-19-master/csse_covid_19_data/csse_covid_19_time_series/time_series_19-covid-Recovered.csv\")"
   ]
  },
  {
   "cell_type": "code",
   "execution_count": 43,
   "metadata": {},
   "outputs": [
    {
     "data": {
      "text/html": [
       "<div>\n",
       "<style>\n",
       "    .dataframe thead tr:only-child th {\n",
       "        text-align: right;\n",
       "    }\n",
       "\n",
       "    .dataframe thead th {\n",
       "        text-align: left;\n",
       "    }\n",
       "\n",
       "    .dataframe tbody tr th {\n",
       "        vertical-align: top;\n",
       "    }\n",
       "</style>\n",
       "<table border=\"1\" class=\"dataframe\">\n",
       "  <thead>\n",
       "    <tr style=\"text-align: right;\">\n",
       "      <th></th>\n",
       "      <th>Province/State</th>\n",
       "      <th>Country/Region</th>\n",
       "      <th>Lat</th>\n",
       "      <th>Long</th>\n",
       "      <th>1/22/20</th>\n",
       "      <th>1/23/20</th>\n",
       "      <th>1/24/20</th>\n",
       "      <th>1/25/20</th>\n",
       "      <th>1/26/20</th>\n",
       "      <th>1/27/20</th>\n",
       "      <th>...</th>\n",
       "      <th>2/16/20</th>\n",
       "      <th>2/17/20</th>\n",
       "      <th>2/18/20</th>\n",
       "      <th>2/19/20</th>\n",
       "      <th>2/20/20</th>\n",
       "      <th>2/21/20</th>\n",
       "      <th>2/22/20</th>\n",
       "      <th>2/23/20</th>\n",
       "      <th>2/24/20</th>\n",
       "      <th>2/25/20</th>\n",
       "    </tr>\n",
       "  </thead>\n",
       "  <tbody>\n",
       "    <tr>\n",
       "      <th>0</th>\n",
       "      <td>Anhui</td>\n",
       "      <td>Mainland China</td>\n",
       "      <td>31.82571</td>\n",
       "      <td>117.2264</td>\n",
       "      <td>1</td>\n",
       "      <td>9</td>\n",
       "      <td>15</td>\n",
       "      <td>39</td>\n",
       "      <td>60</td>\n",
       "      <td>70</td>\n",
       "      <td>...</td>\n",
       "      <td>962</td>\n",
       "      <td>973</td>\n",
       "      <td>982</td>\n",
       "      <td>986</td>\n",
       "      <td>987</td>\n",
       "      <td>988</td>\n",
       "      <td>989</td>\n",
       "      <td>989</td>\n",
       "      <td>989</td>\n",
       "      <td>989</td>\n",
       "    </tr>\n",
       "    <tr>\n",
       "      <th>1</th>\n",
       "      <td>Beijing</td>\n",
       "      <td>Mainland China</td>\n",
       "      <td>40.18238</td>\n",
       "      <td>116.4142</td>\n",
       "      <td>14</td>\n",
       "      <td>22</td>\n",
       "      <td>36</td>\n",
       "      <td>41</td>\n",
       "      <td>68</td>\n",
       "      <td>80</td>\n",
       "      <td>...</td>\n",
       "      <td>380</td>\n",
       "      <td>381</td>\n",
       "      <td>387</td>\n",
       "      <td>393</td>\n",
       "      <td>395</td>\n",
       "      <td>396</td>\n",
       "      <td>399</td>\n",
       "      <td>399</td>\n",
       "      <td>399</td>\n",
       "      <td>400</td>\n",
       "    </tr>\n",
       "    <tr>\n",
       "      <th>2</th>\n",
       "      <td>Chongqing</td>\n",
       "      <td>Mainland China</td>\n",
       "      <td>30.05718</td>\n",
       "      <td>107.8740</td>\n",
       "      <td>6</td>\n",
       "      <td>9</td>\n",
       "      <td>27</td>\n",
       "      <td>57</td>\n",
       "      <td>75</td>\n",
       "      <td>110</td>\n",
       "      <td>...</td>\n",
       "      <td>551</td>\n",
       "      <td>553</td>\n",
       "      <td>555</td>\n",
       "      <td>560</td>\n",
       "      <td>567</td>\n",
       "      <td>572</td>\n",
       "      <td>573</td>\n",
       "      <td>575</td>\n",
       "      <td>576</td>\n",
       "      <td>576</td>\n",
       "    </tr>\n",
       "    <tr>\n",
       "      <th>3</th>\n",
       "      <td>Fujian</td>\n",
       "      <td>Mainland China</td>\n",
       "      <td>26.07783</td>\n",
       "      <td>117.9895</td>\n",
       "      <td>1</td>\n",
       "      <td>5</td>\n",
       "      <td>10</td>\n",
       "      <td>18</td>\n",
       "      <td>35</td>\n",
       "      <td>59</td>\n",
       "      <td>...</td>\n",
       "      <td>287</td>\n",
       "      <td>290</td>\n",
       "      <td>292</td>\n",
       "      <td>293</td>\n",
       "      <td>293</td>\n",
       "      <td>293</td>\n",
       "      <td>293</td>\n",
       "      <td>293</td>\n",
       "      <td>293</td>\n",
       "      <td>294</td>\n",
       "    </tr>\n",
       "    <tr>\n",
       "      <th>4</th>\n",
       "      <td>Gansu</td>\n",
       "      <td>Mainland China</td>\n",
       "      <td>36.06110</td>\n",
       "      <td>103.8343</td>\n",
       "      <td>0</td>\n",
       "      <td>2</td>\n",
       "      <td>2</td>\n",
       "      <td>4</td>\n",
       "      <td>7</td>\n",
       "      <td>14</td>\n",
       "      <td>...</td>\n",
       "      <td>90</td>\n",
       "      <td>91</td>\n",
       "      <td>91</td>\n",
       "      <td>91</td>\n",
       "      <td>91</td>\n",
       "      <td>91</td>\n",
       "      <td>91</td>\n",
       "      <td>91</td>\n",
       "      <td>91</td>\n",
       "      <td>91</td>\n",
       "    </tr>\n",
       "  </tbody>\n",
       "</table>\n",
       "<p>5 rows × 39 columns</p>\n",
       "</div>"
      ],
      "text/plain": [
       "  Province/State  Country/Region       Lat      Long  1/22/20  1/23/20  \\\n",
       "0          Anhui  Mainland China  31.82571  117.2264        1        9   \n",
       "1        Beijing  Mainland China  40.18238  116.4142       14       22   \n",
       "2      Chongqing  Mainland China  30.05718  107.8740        6        9   \n",
       "3         Fujian  Mainland China  26.07783  117.9895        1        5   \n",
       "4          Gansu  Mainland China  36.06110  103.8343        0        2   \n",
       "\n",
       "   1/24/20  1/25/20  1/26/20  1/27/20   ...     2/16/20  2/17/20  2/18/20  \\\n",
       "0       15       39       60       70   ...         962      973      982   \n",
       "1       36       41       68       80   ...         380      381      387   \n",
       "2       27       57       75      110   ...         551      553      555   \n",
       "3       10       18       35       59   ...         287      290      292   \n",
       "4        2        4        7       14   ...          90       91       91   \n",
       "\n",
       "   2/19/20  2/20/20  2/21/20  2/22/20  2/23/20  2/24/20  2/25/20  \n",
       "0      986      987      988      989      989      989      989  \n",
       "1      393      395      396      399      399      399      400  \n",
       "2      560      567      572      573      575      576      576  \n",
       "3      293      293      293      293      293      293      294  \n",
       "4       91       91       91       91       91       91       91  \n",
       "\n",
       "[5 rows x 39 columns]"
      ]
     },
     "execution_count": 43,
     "metadata": {},
     "output_type": "execute_result"
    }
   ],
   "source": [
    "confirmed_df.head()"
   ]
  },
  {
   "cell_type": "code",
   "execution_count": 44,
   "metadata": {},
   "outputs": [
    {
     "data": {
      "text/plain": [
       "(94, 39)"
      ]
     },
     "execution_count": 44,
     "metadata": {},
     "output_type": "execute_result"
    }
   ],
   "source": [
    "confirmed_df.shape"
   ]
  },
  {
   "cell_type": "code",
   "execution_count": 45,
   "metadata": {},
   "outputs": [],
   "source": [
    "confirmed_df = confirmed_df.drop(\"Lat\", axis=1).drop(\"Long\", axis=1)\n",
    "death_df = death_df.drop(\"Lat\", axis=1).drop(\"Long\", axis=1)\n",
    "recover_df = recover_df.drop(\"Lat\", axis=1).drop(\"Long\", axis=1)"
   ]
  },
  {
   "cell_type": "code",
   "execution_count": 46,
   "metadata": {},
   "outputs": [
    {
     "data": {
      "text/html": [
       "<div>\n",
       "<style>\n",
       "    .dataframe thead tr:only-child th {\n",
       "        text-align: right;\n",
       "    }\n",
       "\n",
       "    .dataframe thead th {\n",
       "        text-align: left;\n",
       "    }\n",
       "\n",
       "    .dataframe tbody tr th {\n",
       "        vertical-align: top;\n",
       "    }\n",
       "</style>\n",
       "<table border=\"1\" class=\"dataframe\">\n",
       "  <thead>\n",
       "    <tr style=\"text-align: right;\">\n",
       "      <th></th>\n",
       "      <th>Province/State</th>\n",
       "      <th>Country/Region</th>\n",
       "      <th>1/22/20</th>\n",
       "      <th>1/23/20</th>\n",
       "      <th>1/24/20</th>\n",
       "      <th>1/25/20</th>\n",
       "      <th>1/26/20</th>\n",
       "      <th>1/27/20</th>\n",
       "      <th>1/28/20</th>\n",
       "      <th>1/29/20</th>\n",
       "      <th>...</th>\n",
       "      <th>2/16/20</th>\n",
       "      <th>2/17/20</th>\n",
       "      <th>2/18/20</th>\n",
       "      <th>2/19/20</th>\n",
       "      <th>2/20/20</th>\n",
       "      <th>2/21/20</th>\n",
       "      <th>2/22/20</th>\n",
       "      <th>2/23/20</th>\n",
       "      <th>2/24/20</th>\n",
       "      <th>2/25/20</th>\n",
       "    </tr>\n",
       "  </thead>\n",
       "  <tbody>\n",
       "    <tr>\n",
       "      <th>0</th>\n",
       "      <td>Anhui</td>\n",
       "      <td>Mainland China</td>\n",
       "      <td>1</td>\n",
       "      <td>9</td>\n",
       "      <td>15</td>\n",
       "      <td>39</td>\n",
       "      <td>60</td>\n",
       "      <td>70</td>\n",
       "      <td>106</td>\n",
       "      <td>152</td>\n",
       "      <td>...</td>\n",
       "      <td>962</td>\n",
       "      <td>973</td>\n",
       "      <td>982</td>\n",
       "      <td>986</td>\n",
       "      <td>987</td>\n",
       "      <td>988</td>\n",
       "      <td>989</td>\n",
       "      <td>989</td>\n",
       "      <td>989</td>\n",
       "      <td>989</td>\n",
       "    </tr>\n",
       "    <tr>\n",
       "      <th>1</th>\n",
       "      <td>Beijing</td>\n",
       "      <td>Mainland China</td>\n",
       "      <td>14</td>\n",
       "      <td>22</td>\n",
       "      <td>36</td>\n",
       "      <td>41</td>\n",
       "      <td>68</td>\n",
       "      <td>80</td>\n",
       "      <td>91</td>\n",
       "      <td>111</td>\n",
       "      <td>...</td>\n",
       "      <td>380</td>\n",
       "      <td>381</td>\n",
       "      <td>387</td>\n",
       "      <td>393</td>\n",
       "      <td>395</td>\n",
       "      <td>396</td>\n",
       "      <td>399</td>\n",
       "      <td>399</td>\n",
       "      <td>399</td>\n",
       "      <td>400</td>\n",
       "    </tr>\n",
       "    <tr>\n",
       "      <th>2</th>\n",
       "      <td>Chongqing</td>\n",
       "      <td>Mainland China</td>\n",
       "      <td>6</td>\n",
       "      <td>9</td>\n",
       "      <td>27</td>\n",
       "      <td>57</td>\n",
       "      <td>75</td>\n",
       "      <td>110</td>\n",
       "      <td>132</td>\n",
       "      <td>147</td>\n",
       "      <td>...</td>\n",
       "      <td>551</td>\n",
       "      <td>553</td>\n",
       "      <td>555</td>\n",
       "      <td>560</td>\n",
       "      <td>567</td>\n",
       "      <td>572</td>\n",
       "      <td>573</td>\n",
       "      <td>575</td>\n",
       "      <td>576</td>\n",
       "      <td>576</td>\n",
       "    </tr>\n",
       "    <tr>\n",
       "      <th>3</th>\n",
       "      <td>Fujian</td>\n",
       "      <td>Mainland China</td>\n",
       "      <td>1</td>\n",
       "      <td>5</td>\n",
       "      <td>10</td>\n",
       "      <td>18</td>\n",
       "      <td>35</td>\n",
       "      <td>59</td>\n",
       "      <td>80</td>\n",
       "      <td>84</td>\n",
       "      <td>...</td>\n",
       "      <td>287</td>\n",
       "      <td>290</td>\n",
       "      <td>292</td>\n",
       "      <td>293</td>\n",
       "      <td>293</td>\n",
       "      <td>293</td>\n",
       "      <td>293</td>\n",
       "      <td>293</td>\n",
       "      <td>293</td>\n",
       "      <td>294</td>\n",
       "    </tr>\n",
       "    <tr>\n",
       "      <th>4</th>\n",
       "      <td>Gansu</td>\n",
       "      <td>Mainland China</td>\n",
       "      <td>0</td>\n",
       "      <td>2</td>\n",
       "      <td>2</td>\n",
       "      <td>4</td>\n",
       "      <td>7</td>\n",
       "      <td>14</td>\n",
       "      <td>19</td>\n",
       "      <td>24</td>\n",
       "      <td>...</td>\n",
       "      <td>90</td>\n",
       "      <td>91</td>\n",
       "      <td>91</td>\n",
       "      <td>91</td>\n",
       "      <td>91</td>\n",
       "      <td>91</td>\n",
       "      <td>91</td>\n",
       "      <td>91</td>\n",
       "      <td>91</td>\n",
       "      <td>91</td>\n",
       "    </tr>\n",
       "  </tbody>\n",
       "</table>\n",
       "<p>5 rows × 37 columns</p>\n",
       "</div>"
      ],
      "text/plain": [
       "  Province/State  Country/Region  1/22/20  1/23/20  1/24/20  1/25/20  1/26/20  \\\n",
       "0          Anhui  Mainland China        1        9       15       39       60   \n",
       "1        Beijing  Mainland China       14       22       36       41       68   \n",
       "2      Chongqing  Mainland China        6        9       27       57       75   \n",
       "3         Fujian  Mainland China        1        5       10       18       35   \n",
       "4          Gansu  Mainland China        0        2        2        4        7   \n",
       "\n",
       "   1/27/20  1/28/20  1/29/20   ...     2/16/20  2/17/20  2/18/20  2/19/20  \\\n",
       "0       70      106      152   ...         962      973      982      986   \n",
       "1       80       91      111   ...         380      381      387      393   \n",
       "2      110      132      147   ...         551      553      555      560   \n",
       "3       59       80       84   ...         287      290      292      293   \n",
       "4       14       19       24   ...          90       91       91       91   \n",
       "\n",
       "   2/20/20  2/21/20  2/22/20  2/23/20  2/24/20  2/25/20  \n",
       "0      987      988      989      989      989      989  \n",
       "1      395      396      399      399      399      400  \n",
       "2      567      572      573      575      576      576  \n",
       "3      293      293      293      293      293      294  \n",
       "4       91       91       91       91       91       91  \n",
       "\n",
       "[5 rows x 37 columns]"
      ]
     },
     "execution_count": 46,
     "metadata": {},
     "output_type": "execute_result"
    }
   ],
   "source": [
    "confirmed_df.head()"
   ]
  },
  {
   "cell_type": "code",
   "execution_count": 49,
   "metadata": {},
   "outputs": [],
   "source": [
    "confirmed_df_by_days = confirmed_df.iloc[:, 2:].rename(columns=getDaysDiff).fillna(0)\n",
    "death_df_by_days = death_df.iloc[:, 2:].rename(columns=getDaysDiff).fillna(0)\n",
    "recover_df_by_days = recover_df.iloc[:, 2:].rename(columns=getDaysDiff).fillna(0)"
   ]
  },
  {
   "cell_type": "code",
   "execution_count": 51,
   "metadata": {},
   "outputs": [
    {
     "data": {
      "text/html": [
       "<div>\n",
       "<style>\n",
       "    .dataframe thead tr:only-child th {\n",
       "        text-align: right;\n",
       "    }\n",
       "\n",
       "    .dataframe thead th {\n",
       "        text-align: left;\n",
       "    }\n",
       "\n",
       "    .dataframe tbody tr th {\n",
       "        vertical-align: top;\n",
       "    }\n",
       "</style>\n",
       "<table border=\"1\" class=\"dataframe\">\n",
       "  <thead>\n",
       "    <tr style=\"text-align: right;\">\n",
       "      <th></th>\n",
       "      <th>0</th>\n",
       "      <th>1</th>\n",
       "      <th>2</th>\n",
       "      <th>3</th>\n",
       "      <th>4</th>\n",
       "      <th>5</th>\n",
       "      <th>6</th>\n",
       "      <th>7</th>\n",
       "      <th>8</th>\n",
       "      <th>9</th>\n",
       "      <th>...</th>\n",
       "      <th>25</th>\n",
       "      <th>26</th>\n",
       "      <th>27</th>\n",
       "      <th>28</th>\n",
       "      <th>29</th>\n",
       "      <th>30</th>\n",
       "      <th>31</th>\n",
       "      <th>32</th>\n",
       "      <th>33</th>\n",
       "      <th>34</th>\n",
       "    </tr>\n",
       "  </thead>\n",
       "  <tbody>\n",
       "    <tr>\n",
       "      <th>0</th>\n",
       "      <td>1</td>\n",
       "      <td>9</td>\n",
       "      <td>15</td>\n",
       "      <td>39</td>\n",
       "      <td>60</td>\n",
       "      <td>70</td>\n",
       "      <td>106</td>\n",
       "      <td>152</td>\n",
       "      <td>200</td>\n",
       "      <td>237</td>\n",
       "      <td>...</td>\n",
       "      <td>962</td>\n",
       "      <td>973</td>\n",
       "      <td>982</td>\n",
       "      <td>986</td>\n",
       "      <td>987</td>\n",
       "      <td>988</td>\n",
       "      <td>989</td>\n",
       "      <td>989</td>\n",
       "      <td>989</td>\n",
       "      <td>989</td>\n",
       "    </tr>\n",
       "    <tr>\n",
       "      <th>1</th>\n",
       "      <td>14</td>\n",
       "      <td>22</td>\n",
       "      <td>36</td>\n",
       "      <td>41</td>\n",
       "      <td>68</td>\n",
       "      <td>80</td>\n",
       "      <td>91</td>\n",
       "      <td>111</td>\n",
       "      <td>114</td>\n",
       "      <td>139</td>\n",
       "      <td>...</td>\n",
       "      <td>380</td>\n",
       "      <td>381</td>\n",
       "      <td>387</td>\n",
       "      <td>393</td>\n",
       "      <td>395</td>\n",
       "      <td>396</td>\n",
       "      <td>399</td>\n",
       "      <td>399</td>\n",
       "      <td>399</td>\n",
       "      <td>400</td>\n",
       "    </tr>\n",
       "    <tr>\n",
       "      <th>2</th>\n",
       "      <td>6</td>\n",
       "      <td>9</td>\n",
       "      <td>27</td>\n",
       "      <td>57</td>\n",
       "      <td>75</td>\n",
       "      <td>110</td>\n",
       "      <td>132</td>\n",
       "      <td>147</td>\n",
       "      <td>182</td>\n",
       "      <td>211</td>\n",
       "      <td>...</td>\n",
       "      <td>551</td>\n",
       "      <td>553</td>\n",
       "      <td>555</td>\n",
       "      <td>560</td>\n",
       "      <td>567</td>\n",
       "      <td>572</td>\n",
       "      <td>573</td>\n",
       "      <td>575</td>\n",
       "      <td>576</td>\n",
       "      <td>576</td>\n",
       "    </tr>\n",
       "    <tr>\n",
       "      <th>3</th>\n",
       "      <td>1</td>\n",
       "      <td>5</td>\n",
       "      <td>10</td>\n",
       "      <td>18</td>\n",
       "      <td>35</td>\n",
       "      <td>59</td>\n",
       "      <td>80</td>\n",
       "      <td>84</td>\n",
       "      <td>101</td>\n",
       "      <td>120</td>\n",
       "      <td>...</td>\n",
       "      <td>287</td>\n",
       "      <td>290</td>\n",
       "      <td>292</td>\n",
       "      <td>293</td>\n",
       "      <td>293</td>\n",
       "      <td>293</td>\n",
       "      <td>293</td>\n",
       "      <td>293</td>\n",
       "      <td>293</td>\n",
       "      <td>294</td>\n",
       "    </tr>\n",
       "    <tr>\n",
       "      <th>4</th>\n",
       "      <td>0</td>\n",
       "      <td>2</td>\n",
       "      <td>2</td>\n",
       "      <td>4</td>\n",
       "      <td>7</td>\n",
       "      <td>14</td>\n",
       "      <td>19</td>\n",
       "      <td>24</td>\n",
       "      <td>26</td>\n",
       "      <td>29</td>\n",
       "      <td>...</td>\n",
       "      <td>90</td>\n",
       "      <td>91</td>\n",
       "      <td>91</td>\n",
       "      <td>91</td>\n",
       "      <td>91</td>\n",
       "      <td>91</td>\n",
       "      <td>91</td>\n",
       "      <td>91</td>\n",
       "      <td>91</td>\n",
       "      <td>91</td>\n",
       "    </tr>\n",
       "  </tbody>\n",
       "</table>\n",
       "<p>5 rows × 35 columns</p>\n",
       "</div>"
      ],
      "text/plain": [
       "   0   1   2   3   4    5    6    7    8    9  ...    25   26   27   28   29  \\\n",
       "0   1   9  15  39  60   70  106  152  200  237 ...   962  973  982  986  987   \n",
       "1  14  22  36  41  68   80   91  111  114  139 ...   380  381  387  393  395   \n",
       "2   6   9  27  57  75  110  132  147  182  211 ...   551  553  555  560  567   \n",
       "3   1   5  10  18  35   59   80   84  101  120 ...   287  290  292  293  293   \n",
       "4   0   2   2   4   7   14   19   24   26   29 ...    90   91   91   91   91   \n",
       "\n",
       "    30   31   32   33   34  \n",
       "0  988  989  989  989  989  \n",
       "1  396  399  399  399  400  \n",
       "2  572  573  575  576  576  \n",
       "3  293  293  293  293  294  \n",
       "4   91   91   91   91   91  \n",
       "\n",
       "[5 rows x 35 columns]"
      ]
     },
     "execution_count": 51,
     "metadata": {},
     "output_type": "execute_result"
    }
   ],
   "source": [
    "confirmed_df_by_days.head()"
   ]
  },
  {
   "cell_type": "code",
   "execution_count": 22,
   "metadata": {},
   "outputs": [],
   "source": [
    "starting_date = \"1/22/20\""
   ]
  },
  {
   "cell_type": "code",
   "execution_count": 32,
   "metadata": {},
   "outputs": [],
   "source": [
    "def getDays(cur_date):\n",
    "    m, d, y = cur_date.split(\"/\")\n",
    "    return (int(m)*31+int(d))"
   ]
  },
  {
   "cell_type": "code",
   "execution_count": 41,
   "metadata": {},
   "outputs": [],
   "source": [
    "def getDaysDiff(cur_date, start_date=starting_date):\n",
    "    m, d, y = cur_date.split(\"/\")\n",
    "    return getDays(cur_date) - getDays(starting_date)"
   ]
  },
  {
   "cell_type": "code",
   "execution_count": 34,
   "metadata": {},
   "outputs": [
    {
     "data": {
      "text/plain": [
       "5"
      ]
     },
     "execution_count": 34,
     "metadata": {},
     "output_type": "execute_result"
    }
   ],
   "source": [
    "getDayDiff(\"01/27/20\")"
   ]
  },
  {
   "cell_type": "code",
   "execution_count": 52,
   "metadata": {},
   "outputs": [],
   "source": [
    "name2index = {}\n",
    "index2state = {}\n",
    "for index in range(len(confirmed_df)):\n",
    "    country, state = confirmed_df.iloc[index, 1], confirmed_df.iloc[index, 0]\n",
    "    if pd.isnull(confirmed_df.iloc[index, 0]):\n",
    "        name = country\n",
    "    else:\n",
    "        name = country + \"_\" + state\n",
    "    name2index[name] = index\n",
    "    index2state[index] = name"
   ]
  },
  {
   "cell_type": "markdown",
   "metadata": {},
   "source": [
    "## 确诊人数(Confirmed Cases)"
   ]
  },
  {
   "cell_type": "code",
   "execution_count": 54,
   "metadata": {},
   "outputs": [
    {
     "data": {
      "image/png": "[encoded data removed]",
      "text/plain": [
       "<Figure size 576x432 with 1 Axes>"
      ]
     },
     "metadata": {
      "needs_background": "light"
     },
     "output_type": "display_data"
    }
   ],
   "source": [
    "name = \"Mainland China_Hubei\"\n",
    "temp_df = confirmed_df_by_days.iloc[name2index[name], :];\n",
    "plt.figure(figsize=(8,6))\n",
    "temp_df.plot(title=name, marker='.', markersize=10)\n",
    "plt.xlabel(\"days\")\n",
    "plt.ylabel(\"confirmed cases\")\n",
    "plt.show()"
   ]
  },
  {
   "cell_type": "markdown",
   "metadata": {},
   "source": [
    "## 死亡人数(Death Cases)"
   ]
  },
  {
   "cell_type": "code",
   "execution_count": 55,
   "metadata": {},
   "outputs": [
    {
     "data": {
      "image/png": "[encoded data removed]",
      "text/plain": [
       "<Figure size 576x432 with 1 Axes>"
      ]
     },
     "metadata": {
      "needs_background": "light"
     },
     "output_type": "display_data"
    }
   ],
   "source": [
    "name = \"Mainland China_Hubei\"\n",
    "temp_df = death_df_by_days.iloc[name2index[name], :];\n",
    "plt.figure(figsize=(8,6))\n",
    "temp_df.plot(title=name, marker='.', markersize=10)\n",
    "plt.xlabel(\"days\")\n",
    "plt.ylabel(\"death cases\")\n",
    "plt.show()"
   ]
  },
  {
   "cell_type": "markdown",
   "metadata": {},
   "source": [
    "## 死亡率(Death Rate)"
   ]
  },
  {
   "cell_type": "code",
   "execution_count": 56,
   "metadata": {},
   "outputs": [
    {
     "data": {
      "image/png": "[encoded data removed]",
      "text/plain": [
       "<Figure size 576x432 with 1 Axes>"
      ]
     },
     "metadata": {
      "needs_background": "light"
     },
     "output_type": "display_data"
    }
   ],
   "source": [
    "name = \"Mainland China_Hubei\"\n",
    "plt.figure(figsize=(8,6))\n",
    "no_delay_rate = 100*death_df_by_days.iloc[name2index[name], :]/confirmed_df_by_days.iloc[name2index[name], :]\n",
    "plt.plot(no_delay_rate, marker='.', markersize=10)\n",
    "plt.xlabel(\"days\")\n",
    "plt.ylabel(\"mortality\")\n",
    "plt.ylim(0, 8);\n",
    "plt.title(name + \" (No Delay)\")\n",
    "plt.savefig('hubei_no_delay.png')\n",
    "plt.show()\n"
   ]
  },
  {
   "cell_type": "code",
   "execution_count": 57,
   "metadata": {},
   "outputs": [],
   "source": [
    "DELAY_DAYS = 3"
   ]
  },
  {
   "cell_type": "code",
   "execution_count": 58,
   "metadata": {},
   "outputs": [],
   "source": [
    "index2earlierIndex = {}\n",
    "visited_days = []\n",
    "ptr = 0\n",
    "for index, day in enumerate(death_df_by_days):\n",
    "    if day - DELAY_DAYS >= 0:\n",
    "        target_day = day - DELAY_DAYS\n",
    "        while ptr < len(visited_days):\n",
    "            if visited_days[ptr] <= target_day <= visited_days[ptr+1]:\n",
    "                if target_day - visited_days[ptr] <= visited_days[ptr+1] - target_day:\n",
    "                    index2earlierIndex[index] = ptr\n",
    "                else:\n",
    "                    index2earlierIndex[index] = ptr + 1\n",
    "                break\n",
    "            else:\n",
    "                ptr += 1\n",
    "    else:\n",
    "        index2earlierIndex[index] = None\n",
    "    visited_days.append(day)"
   ]
  },
  {
   "cell_type": "code",
   "execution_count": 59,
   "metadata": {},
   "outputs": [],
   "source": [
    "actual_rate = []\n",
    "cur_rate = None\n",
    "for index in sorted(index2earlierIndex.keys()):\n",
    "    earlier_index = index2earlierIndex[index]\n",
    "    if earlier_index:\n",
    "        confirm_case = confirmed_df_by_days.iloc[name2index[name], earlier_index]\n",
    "        death = death_df_by_days.iloc[name2index[name], index]\n",
    "        cur_rate = round(death/confirm_case*100, 2)\n",
    "    actual_rate.append(cur_rate)\n",
    "    "
   ]
  },
  {
   "cell_type": "code",
   "execution_count": 60,
   "metadata": {},
   "outputs": [
    {
     "data": {
      "image/png": "[encoded data removed]",
      "text/plain": [
       "<Figure size 576x432 with 1 Axes>"
      ]
     },
     "metadata": {
      "needs_background": "light"
     },
     "output_type": "display_data"
    }
   ],
   "source": [
    "name = \"Mainland China_Hubei\"\n",
    "plt.figure(figsize=(8,6))\n",
    "plt.plot(visited_days, actual_rate, marker='.', markersize=10)\n",
    "plt.xlabel(\"days\")\n",
    "plt.ylabel(\"death rate\")\n",
    "plt.ylim(0, 20);\n",
    "plt.title(name + \" (3 Day Delay)\")\n",
    "plt.show()"
   ]
  },
  {
   "cell_type": "code",
   "execution_count": 61,
   "metadata": {},
   "outputs": [],
   "source": [
    "DELAY_DAYS = 7"
   ]
  },
  {
   "cell_type": "code",
   "execution_count": 62,
   "metadata": {},
   "outputs": [],
   "source": [
    "index2earlierIndex = {}\n",
    "visited_days = []\n",
    "ptr = 0\n",
    "name = \"Mainland China_Hubei\"\n",
    "for index, day in enumerate(death_df_by_days):\n",
    "    if day - DELAY_DAYS >= 0:\n",
    "        target_day = day - DELAY_DAYS\n",
    "        while ptr < len(visited_days):\n",
    "            if visited_days[ptr] <= target_day <= visited_days[ptr+1]:\n",
    "                if target_day - visited_days[ptr] <= visited_days[ptr+1] - target_day:\n",
    "                    index2earlierIndex[index] = ptr\n",
    "                else:\n",
    "                    index2earlierIndex[index] = ptr + 1\n",
    "                break\n",
    "            else:\n",
    "                ptr += 1\n",
    "    else:\n",
    "        index2earlierIndex[index] = None\n",
    "    visited_days.append(day)"
   ]
  },
  {
   "cell_type": "code",
   "execution_count": 63,
   "metadata": {},
   "outputs": [],
   "source": [
    "actual_rate = []\n",
    "cur_rate = None\n",
    "for index in sorted(index2earlierIndex.keys()):\n",
    "    earlier_index = index2earlierIndex[index]\n",
    "    if earlier_index:\n",
    "        confirm_case = confirmed_df_by_days.iloc[name2index[name], earlier_index]\n",
    "        death = death_df_by_days.iloc[name2index[name], index]\n",
    "        cur_rate = round(death/confirm_case*100, 2)\n",
    "    actual_rate.append(cur_rate)"
   ]
  },
  {
   "cell_type": "code",
   "execution_count": 64,
   "metadata": {},
   "outputs": [
    {
     "data": {
      "image/png": "[encoded data removed]",
      "text/plain": [
       "<Figure size 576x432 with 1 Axes>"
      ]
     },
     "metadata": {
      "needs_background": "light"
     },
     "output_type": "display_data"
    }
   ],
   "source": [
    "name = \"Mainland China_Hubei\"\n",
    "plt.figure(figsize=(8,6))\n",
    "plt.plot(visited_days, actual_rate, marker='.', markersize=10)\n",
    "plt.xlabel(\"days\")\n",
    "plt.ylabel(\"mortality\")\n",
    "plt.ylim(0, 50);\n",
    "plt.title(\"{} ({} Day Delay)\".format(name, DELAY_DAYS))\n",
    "plt.savefig('hubei_7_day.png')\n",
    "plt.show()"
   ]
  },
  {
   "cell_type": "code",
   "execution_count": null,
   "metadata": {},
   "outputs": [],
   "source": []
  },
  {
   "cell_type": "code",
   "execution_count": 65,
   "metadata": {},
   "outputs": [
    {
     "data": {
      "image/png": "[encoded data removed]",
      "text/plain": [
       "<Figure size 576x432 with 1 Axes>"
      ]
     },
     "metadata": {
      "needs_background": "light"
     },
     "output_type": "display_data"
    }
   ],
   "source": [
    "name = \"Mainland China_Henan\"\n",
    "actual_rate = []\n",
    "cur_rate = None\n",
    "for index in sorted(index2earlierIndex.keys()):\n",
    "    earlier_index = index2earlierIndex[index]\n",
    "    if earlier_index:\n",
    "        confirm_case = confirmed_df_by_days.iloc[name2index[name], earlier_index]\n",
    "        death = death_df_by_days.iloc[name2index[name], index]\n",
    "        cur_rate = round(death/confirm_case*100, 2)\n",
    "    actual_rate.append(cur_rate)\n",
    "plt.figure(figsize=(8,6))\n",
    "plt.plot(visited_days, actual_rate, marker='.', markersize=10)\n",
    "plt.xlabel(\"days\")\n",
    "plt.ylabel(\"mortality\")\n",
    "plt.ylim(0, 50);\n",
    "plt.title(\"{} ({} Day Delay)\".format(name, DELAY_DAYS))\n",
    "plt.show()"
   ]
  },
  {
   "cell_type": "code",
   "execution_count": 66,
   "metadata": {},
   "outputs": [
    {
     "data": {
      "image/png": "[encoded data removed]",
      "text/plain": [
       "<Figure size 576x432 with 1 Axes>"
      ]
     },
     "metadata": {
      "needs_background": "light"
     },
     "output_type": "display_data"
    }
   ],
   "source": [
    "name = \"Mainland China_Heilongjiang\"\n",
    "actual_rate = []\n",
    "cur_rate = None\n",
    "for index in sorted(index2earlierIndex.keys()):\n",
    "    earlier_index = index2earlierIndex[index]\n",
    "    if earlier_index:\n",
    "        confirm_case = confirmed_df_by_days.iloc[name2index[name], earlier_index]\n",
    "        death = death_df_by_days.iloc[name2index[name], index]\n",
    "        if death <= confirm_case:\n",
    "            cur_rate = round(death/confirm_case*100, 2)\n",
    "    actual_rate.append(cur_rate)\n",
    "plt.figure(figsize=(8,6))\n",
    "plt.plot(visited_days, actual_rate, marker='.', markersize=10)\n",
    "plt.xlabel(\"days\")\n",
    "plt.ylabel(\"mortality\")\n",
    "plt.title(\"{} ({} Day Delay)\".format(name, DELAY_DAYS))\n",
    "plt.show()"
   ]
  },
  {
   "cell_type": "code",
   "execution_count": 67,
   "metadata": {},
   "outputs": [
    {
     "data": {
      "image/png": "[encoded data removed]",
      "text/plain": [
       "<Figure size 576x432 with 1 Axes>"
      ]
     },
     "metadata": {
      "needs_background": "light"
     },
     "output_type": "display_data"
    }
   ],
   "source": [
    "name = \"Mainland China\"\n",
    "actual_rate = []\n",
    "cur_rate = None\n",
    "for index in sorted(index2earlierIndex.keys()):\n",
    "    earlier_index = index2earlierIndex[index]\n",
    "    if earlier_index:\n",
    "        confirm_case = death = 0\n",
    "        for keyName in name2index:\n",
    "            if keyName.startswith(\"Mainland China\"):\n",
    "                confirm_case += confirmed_df_by_days.iloc[name2index[keyName], earlier_index]\n",
    "                death += death_df_by_days.iloc[name2index[keyName], index]\n",
    "        if death <= confirm_case:\n",
    "            cur_rate = round(death/confirm_case*100, 2)\n",
    "    actual_rate.append(cur_rate)\n",
    "plt.figure(figsize=(8,6))\n",
    "plt.plot(visited_days, actual_rate, marker='.', markersize=10)\n",
    "plt.xlabel(\"days\")\n",
    "plt.ylabel(\"mortality\")\n",
    "plt.ylim(0, 40);\n",
    "plt.title(\"{} ({} Day Delay)\".format(name, DELAY_DAYS))\n",
    "plt.savefig('Mainland_China_7_day.png')\n",
    "\n",
    "plt.show()"
   ]
  },
  {
   "cell_type": "code",
   "execution_count": 70,
   "metadata": {},
   "outputs": [
    {
     "data": {
      "image/png": "[encoded data removed]",
      "text/plain": [
       "<Figure size 576x432 with 1 Axes>"
      ]
     },
     "metadata": {
      "needs_background": "light"
     },
     "output_type": "display_data"
    }
   ],
   "source": [
    "name = \"Mainland China (Outside Hubei)\"\n",
    "actual_rate = []\n",
    "cur_rate = None\n",
    "for index in sorted(index2earlierIndex.keys()):\n",
    "    earlier_index = index2earlierIndex[index]\n",
    "    if earlier_index:\n",
    "        confirm_case = death = 0\n",
    "        for keyName in name2index:\n",
    "            if keyName.startswith(\"Mainland China\") and not keyName.endswith(\"Hubei\"):\n",
    "                confirm_case += confirmed_df_by_days.iloc[name2index[keyName], earlier_index]\n",
    "                death += death_df_by_days.iloc[name2index[keyName], index]\n",
    "        if death <= confirm_case:\n",
    "            cur_rate = round(death/confirm_case*100, 2)\n",
    "    actual_rate.append(cur_rate)\n",
    "plt.figure(figsize=(8,6))\n",
    "plt.plot(visited_days, actual_rate, marker='.', markersize=10)\n",
    "plt.xlabel(\"days\")\n",
    "plt.ylabel(\"mortality\")\n",
    "plt.ylim(0, 12);\n",
    "plt.title(\"{} ({} Day Delay)\".format(name, DELAY_DAYS))\n",
    "plt.savefig('Mainland_China_Except_Hubei_7_day.png')\n",
    "plt.show()"
   ]
  },
  {
   "cell_type": "code",
   "execution_count": null,
   "metadata": {},
   "outputs": [],
   "source": []
  }
 ],
 "metadata": {
  "kernelspec": {
   "display_name": "Python 3",
   "language": "python",
   "name": "python3"
  },
  "language_info": {
   "codemirror_mode": {
    "name": "ipython",
    "version": 3
   },
   "file_extension": ".py",
   "mimetype": "text/x-python",
   "name": "python",
   "nbconvert_exporter": "python",
   "pygments_lexer": "ipython3",
   "version": "3.6.8"
  }
 },
 "nbformat": 4,
 "nbformat_minor": 2
}
