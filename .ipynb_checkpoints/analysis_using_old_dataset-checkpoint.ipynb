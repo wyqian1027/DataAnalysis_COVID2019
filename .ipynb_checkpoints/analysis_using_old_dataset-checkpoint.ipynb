{
 "cells": [
  {
   "cell_type": "code",
   "execution_count": 32,
   "metadata": {},
   "outputs": [],
   "source": [
    "import numpy as np\n",
    "import pandas as pd\n",
    "import os\n",
    "\n",
    "from matplotlib import pyplot as plt\n",
    "%matplotlib inline"
   ]
  },
  {
   "cell_type": "code",
   "execution_count": 37,
   "metadata": {},
   "outputs": [
    {
     "data": {
      "text/plain": [
       "'/Users/wenyang/PROJECT_MASTER/DataAnalysis_COVID2019'"
      ]
     },
     "execution_count": 37,
     "metadata": {},
     "output_type": "execute_result"
    }
   ],
   "source": [
    "os.getcwd()"
   ]
  },
  {
   "cell_type": "code",
   "execution_count": 42,
   "metadata": {},
   "outputs": [],
   "source": [
    "confirmed_df = pd.read_csv(\"__COVID-19-master/time_series/time_series_2019-ncov-Confirmed.csv\")\n",
    "death_df = pd.read_csv(\"__COVID-19-master/time_series/time_series_2019-ncov-Deaths.csv\")\n",
    "recover_df = pd.read_csv(\"__COVID-19-master/time_series/time_series_2019-ncov-Recovered.csv\")"
   ]
  },
  {
   "cell_type": "code",
   "execution_count": 43,
   "metadata": {},
   "outputs": [
    {
     "data": {
      "text/html": [
       "<div>\n",
       "<style>\n",
       "    .dataframe thead tr:only-child th {\n",
       "        text-align: right;\n",
       "    }\n",
       "\n",
       "    .dataframe thead th {\n",
       "        text-align: left;\n",
       "    }\n",
       "\n",
       "    .dataframe tbody tr th {\n",
       "        vertical-align: top;\n",
       "    }\n",
       "</style>\n",
       "<table border=\"1\" class=\"dataframe\">\n",
       "  <thead>\n",
       "    <tr style=\"text-align: right;\">\n",
       "      <th></th>\n",
       "      <th>Province/State</th>\n",
       "      <th>Country/Region</th>\n",
       "      <th>Lat</th>\n",
       "      <th>Long</th>\n",
       "      <th>1/21/20 22:00</th>\n",
       "      <th>1/22/20 12:00</th>\n",
       "      <th>1/23/20 12:00</th>\n",
       "      <th>1/24/20 0:00</th>\n",
       "      <th>1/24/20 12:00</th>\n",
       "      <th>1/25/20 0:00</th>\n",
       "      <th>...</th>\n",
       "      <th>2/8/20 23:04</th>\n",
       "      <th>2/9/20 10:30</th>\n",
       "      <th>2/9/20 23:20</th>\n",
       "      <th>2/10/20 10:30</th>\n",
       "      <th>2/10/20 19:30</th>\n",
       "      <th>2/11/20 10:50</th>\n",
       "      <th>2/11/20 20:44</th>\n",
       "      <th>2/12/20 10:20</th>\n",
       "      <th>2/12/20 22:00</th>\n",
       "      <th>2/13/20 10:00</th>\n",
       "    </tr>\n",
       "  </thead>\n",
       "  <tbody>\n",
       "    <tr>\n",
       "      <th>0</th>\n",
       "      <td>Anhui</td>\n",
       "      <td>Mainland China</td>\n",
       "      <td>31.82571</td>\n",
       "      <td>117.2264</td>\n",
       "      <td>NaN</td>\n",
       "      <td>1.0</td>\n",
       "      <td>9.0</td>\n",
       "      <td>15.0</td>\n",
       "      <td>15.0</td>\n",
       "      <td>39.0</td>\n",
       "      <td>...</td>\n",
       "      <td>779.0</td>\n",
       "      <td>779.0</td>\n",
       "      <td>830.0</td>\n",
       "      <td>830.0</td>\n",
       "      <td>830.0</td>\n",
       "      <td>860</td>\n",
       "      <td>889</td>\n",
       "      <td>889</td>\n",
       "      <td>910</td>\n",
       "      <td>910</td>\n",
       "    </tr>\n",
       "    <tr>\n",
       "      <th>1</th>\n",
       "      <td>Beijing</td>\n",
       "      <td>Mainland China</td>\n",
       "      <td>40.18238</td>\n",
       "      <td>116.4142</td>\n",
       "      <td>10.0</td>\n",
       "      <td>14.0</td>\n",
       "      <td>22.0</td>\n",
       "      <td>26.0</td>\n",
       "      <td>36.0</td>\n",
       "      <td>36.0</td>\n",
       "      <td>...</td>\n",
       "      <td>326.0</td>\n",
       "      <td>326.0</td>\n",
       "      <td>337.0</td>\n",
       "      <td>337.0</td>\n",
       "      <td>337.0</td>\n",
       "      <td>342</td>\n",
       "      <td>342</td>\n",
       "      <td>352</td>\n",
       "      <td>366</td>\n",
       "      <td>366</td>\n",
       "    </tr>\n",
       "    <tr>\n",
       "      <th>2</th>\n",
       "      <td>Chongqing</td>\n",
       "      <td>Mainland China</td>\n",
       "      <td>30.05718</td>\n",
       "      <td>107.8740</td>\n",
       "      <td>5.0</td>\n",
       "      <td>6.0</td>\n",
       "      <td>9.0</td>\n",
       "      <td>27.0</td>\n",
       "      <td>27.0</td>\n",
       "      <td>57.0</td>\n",
       "      <td>...</td>\n",
       "      <td>446.0</td>\n",
       "      <td>450.0</td>\n",
       "      <td>468.0</td>\n",
       "      <td>473.0</td>\n",
       "      <td>486.0</td>\n",
       "      <td>489</td>\n",
       "      <td>505</td>\n",
       "      <td>509</td>\n",
       "      <td>518</td>\n",
       "      <td>525</td>\n",
       "    </tr>\n",
       "    <tr>\n",
       "      <th>3</th>\n",
       "      <td>Fujian</td>\n",
       "      <td>Mainland China</td>\n",
       "      <td>26.07783</td>\n",
       "      <td>117.9895</td>\n",
       "      <td>NaN</td>\n",
       "      <td>1.0</td>\n",
       "      <td>5.0</td>\n",
       "      <td>5.0</td>\n",
       "      <td>10.0</td>\n",
       "      <td>10.0</td>\n",
       "      <td>...</td>\n",
       "      <td>250.0</td>\n",
       "      <td>250.0</td>\n",
       "      <td>261.0</td>\n",
       "      <td>261.0</td>\n",
       "      <td>261.0</td>\n",
       "      <td>267</td>\n",
       "      <td>272</td>\n",
       "      <td>272</td>\n",
       "      <td>279</td>\n",
       "      <td>279</td>\n",
       "    </tr>\n",
       "    <tr>\n",
       "      <th>4</th>\n",
       "      <td>Gansu</td>\n",
       "      <td>Mainland China</td>\n",
       "      <td>36.06110</td>\n",
       "      <td>103.8343</td>\n",
       "      <td>NaN</td>\n",
       "      <td>NaN</td>\n",
       "      <td>2.0</td>\n",
       "      <td>2.0</td>\n",
       "      <td>2.0</td>\n",
       "      <td>4.0</td>\n",
       "      <td>...</td>\n",
       "      <td>79.0</td>\n",
       "      <td>79.0</td>\n",
       "      <td>83.0</td>\n",
       "      <td>83.0</td>\n",
       "      <td>86.0</td>\n",
       "      <td>86</td>\n",
       "      <td>86</td>\n",
       "      <td>86</td>\n",
       "      <td>87</td>\n",
       "      <td>87</td>\n",
       "    </tr>\n",
       "  </tbody>\n",
       "</table>\n",
       "<p>5 rows × 47 columns</p>\n",
       "</div>"
      ],
      "text/plain": [
       "  Province/State  Country/Region       Lat      Long  1/21/20 22:00  \\\n",
       "0          Anhui  Mainland China  31.82571  117.2264            NaN   \n",
       "1        Beijing  Mainland China  40.18238  116.4142           10.0   \n",
       "2      Chongqing  Mainland China  30.05718  107.8740            5.0   \n",
       "3         Fujian  Mainland China  26.07783  117.9895            NaN   \n",
       "4          Gansu  Mainland China  36.06110  103.8343            NaN   \n",
       "\n",
       "   1/22/20 12:00  1/23/20 12:00  1/24/20 0:00  1/24/20 12:00  1/25/20 0:00  \\\n",
       "0            1.0            9.0          15.0           15.0          39.0   \n",
       "1           14.0           22.0          26.0           36.0          36.0   \n",
       "2            6.0            9.0          27.0           27.0          57.0   \n",
       "3            1.0            5.0           5.0           10.0          10.0   \n",
       "4            NaN            2.0           2.0            2.0           4.0   \n",
       "\n",
       "       ...        2/8/20 23:04  2/9/20 10:30  2/9/20 23:20  2/10/20 10:30  \\\n",
       "0      ...               779.0         779.0         830.0          830.0   \n",
       "1      ...               326.0         326.0         337.0          337.0   \n",
       "2      ...               446.0         450.0         468.0          473.0   \n",
       "3      ...               250.0         250.0         261.0          261.0   \n",
       "4      ...                79.0          79.0          83.0           83.0   \n",
       "\n",
       "   2/10/20 19:30  2/11/20 10:50  2/11/20 20:44  2/12/20 10:20  2/12/20 22:00  \\\n",
       "0          830.0            860            889            889            910   \n",
       "1          337.0            342            342            352            366   \n",
       "2          486.0            489            505            509            518   \n",
       "3          261.0            267            272            272            279   \n",
       "4           86.0             86             86             86             87   \n",
       "\n",
       "   2/13/20 10:00  \n",
       "0            910  \n",
       "1            366  \n",
       "2            525  \n",
       "3            279  \n",
       "4             87  \n",
       "\n",
       "[5 rows x 47 columns]"
      ]
     },
     "execution_count": 43,
     "metadata": {},
     "output_type": "execute_result"
    }
   ],
   "source": [
    "confirmed_df.head()"
   ]
  },
  {
   "cell_type": "code",
   "execution_count": 44,
   "metadata": {},
   "outputs": [
    {
     "data": {
      "text/plain": [
       "(73, 47)"
      ]
     },
     "execution_count": 44,
     "metadata": {},
     "output_type": "execute_result"
    }
   ],
   "source": [
    "confirmed_df.shape"
   ]
  },
  {
   "cell_type": "code",
   "execution_count": 45,
   "metadata": {},
   "outputs": [],
   "source": [
    "confirmed_df = confirmed_df.drop(\"Lat\", axis=1).drop(\"Long\", axis=1)\n",
    "death_df = death_df.drop(\"Lat\", axis=1).drop(\"Long\", axis=1)\n",
    "recover_df = recover_df.drop(\"Lat\", axis=1).drop(\"Long\", axis=1)"
   ]
  },
  {
   "cell_type": "code",
   "execution_count": 46,
   "metadata": {},
   "outputs": [
    {
     "data": {
      "text/html": [
       "<div>\n",
       "<style>\n",
       "    .dataframe thead tr:only-child th {\n",
       "        text-align: right;\n",
       "    }\n",
       "\n",
       "    .dataframe thead th {\n",
       "        text-align: left;\n",
       "    }\n",
       "\n",
       "    .dataframe tbody tr th {\n",
       "        vertical-align: top;\n",
       "    }\n",
       "</style>\n",
       "<table border=\"1\" class=\"dataframe\">\n",
       "  <thead>\n",
       "    <tr style=\"text-align: right;\">\n",
       "      <th></th>\n",
       "      <th>Province/State</th>\n",
       "      <th>Country/Region</th>\n",
       "      <th>1/21/20 22:00</th>\n",
       "      <th>1/22/20 12:00</th>\n",
       "      <th>1/23/20 12:00</th>\n",
       "      <th>1/24/20 0:00</th>\n",
       "      <th>1/24/20 12:00</th>\n",
       "      <th>1/25/20 0:00</th>\n",
       "      <th>1/25/20 12:00</th>\n",
       "      <th>1/25/20 22:00</th>\n",
       "      <th>...</th>\n",
       "      <th>2/8/20 23:04</th>\n",
       "      <th>2/9/20 10:30</th>\n",
       "      <th>2/9/20 23:20</th>\n",
       "      <th>2/10/20 10:30</th>\n",
       "      <th>2/10/20 19:30</th>\n",
       "      <th>2/11/20 10:50</th>\n",
       "      <th>2/11/20 20:44</th>\n",
       "      <th>2/12/20 10:20</th>\n",
       "      <th>2/12/20 22:00</th>\n",
       "      <th>2/13/20 10:00</th>\n",
       "    </tr>\n",
       "  </thead>\n",
       "  <tbody>\n",
       "    <tr>\n",
       "      <th>0</th>\n",
       "      <td>Anhui</td>\n",
       "      <td>Mainland China</td>\n",
       "      <td>NaN</td>\n",
       "      <td>1.0</td>\n",
       "      <td>9.0</td>\n",
       "      <td>15.0</td>\n",
       "      <td>15.0</td>\n",
       "      <td>39.0</td>\n",
       "      <td>39.0</td>\n",
       "      <td>60.0</td>\n",
       "      <td>...</td>\n",
       "      <td>779.0</td>\n",
       "      <td>779.0</td>\n",
       "      <td>830.0</td>\n",
       "      <td>830.0</td>\n",
       "      <td>830.0</td>\n",
       "      <td>860</td>\n",
       "      <td>889</td>\n",
       "      <td>889</td>\n",
       "      <td>910</td>\n",
       "      <td>910</td>\n",
       "    </tr>\n",
       "    <tr>\n",
       "      <th>1</th>\n",
       "      <td>Beijing</td>\n",
       "      <td>Mainland China</td>\n",
       "      <td>10.0</td>\n",
       "      <td>14.0</td>\n",
       "      <td>22.0</td>\n",
       "      <td>26.0</td>\n",
       "      <td>36.0</td>\n",
       "      <td>36.0</td>\n",
       "      <td>41.0</td>\n",
       "      <td>51.0</td>\n",
       "      <td>...</td>\n",
       "      <td>326.0</td>\n",
       "      <td>326.0</td>\n",
       "      <td>337.0</td>\n",
       "      <td>337.0</td>\n",
       "      <td>337.0</td>\n",
       "      <td>342</td>\n",
       "      <td>342</td>\n",
       "      <td>352</td>\n",
       "      <td>366</td>\n",
       "      <td>366</td>\n",
       "    </tr>\n",
       "    <tr>\n",
       "      <th>2</th>\n",
       "      <td>Chongqing</td>\n",
       "      <td>Mainland China</td>\n",
       "      <td>5.0</td>\n",
       "      <td>6.0</td>\n",
       "      <td>9.0</td>\n",
       "      <td>27.0</td>\n",
       "      <td>27.0</td>\n",
       "      <td>57.0</td>\n",
       "      <td>57.0</td>\n",
       "      <td>75.0</td>\n",
       "      <td>...</td>\n",
       "      <td>446.0</td>\n",
       "      <td>450.0</td>\n",
       "      <td>468.0</td>\n",
       "      <td>473.0</td>\n",
       "      <td>486.0</td>\n",
       "      <td>489</td>\n",
       "      <td>505</td>\n",
       "      <td>509</td>\n",
       "      <td>518</td>\n",
       "      <td>525</td>\n",
       "    </tr>\n",
       "    <tr>\n",
       "      <th>3</th>\n",
       "      <td>Fujian</td>\n",
       "      <td>Mainland China</td>\n",
       "      <td>NaN</td>\n",
       "      <td>1.0</td>\n",
       "      <td>5.0</td>\n",
       "      <td>5.0</td>\n",
       "      <td>10.0</td>\n",
       "      <td>10.0</td>\n",
       "      <td>18.0</td>\n",
       "      <td>18.0</td>\n",
       "      <td>...</td>\n",
       "      <td>250.0</td>\n",
       "      <td>250.0</td>\n",
       "      <td>261.0</td>\n",
       "      <td>261.0</td>\n",
       "      <td>261.0</td>\n",
       "      <td>267</td>\n",
       "      <td>272</td>\n",
       "      <td>272</td>\n",
       "      <td>279</td>\n",
       "      <td>279</td>\n",
       "    </tr>\n",
       "    <tr>\n",
       "      <th>4</th>\n",
       "      <td>Gansu</td>\n",
       "      <td>Mainland China</td>\n",
       "      <td>NaN</td>\n",
       "      <td>NaN</td>\n",
       "      <td>2.0</td>\n",
       "      <td>2.0</td>\n",
       "      <td>2.0</td>\n",
       "      <td>4.0</td>\n",
       "      <td>4.0</td>\n",
       "      <td>7.0</td>\n",
       "      <td>...</td>\n",
       "      <td>79.0</td>\n",
       "      <td>79.0</td>\n",
       "      <td>83.0</td>\n",
       "      <td>83.0</td>\n",
       "      <td>86.0</td>\n",
       "      <td>86</td>\n",
       "      <td>86</td>\n",
       "      <td>86</td>\n",
       "      <td>87</td>\n",
       "      <td>87</td>\n",
       "    </tr>\n",
       "  </tbody>\n",
       "</table>\n",
       "<p>5 rows × 45 columns</p>\n",
       "</div>"
      ],
      "text/plain": [
       "  Province/State  Country/Region  1/21/20 22:00  1/22/20 12:00  1/23/20 12:00  \\\n",
       "0          Anhui  Mainland China            NaN            1.0            9.0   \n",
       "1        Beijing  Mainland China           10.0           14.0           22.0   \n",
       "2      Chongqing  Mainland China            5.0            6.0            9.0   \n",
       "3         Fujian  Mainland China            NaN            1.0            5.0   \n",
       "4          Gansu  Mainland China            NaN            NaN            2.0   \n",
       "\n",
       "   1/24/20 0:00  1/24/20 12:00  1/25/20 0:00  1/25/20 12:00  1/25/20 22:00  \\\n",
       "0          15.0           15.0          39.0           39.0           60.0   \n",
       "1          26.0           36.0          36.0           41.0           51.0   \n",
       "2          27.0           27.0          57.0           57.0           75.0   \n",
       "3           5.0           10.0          10.0           18.0           18.0   \n",
       "4           2.0            2.0           4.0            4.0            7.0   \n",
       "\n",
       "       ...        2/8/20 23:04  2/9/20 10:30  2/9/20 23:20  2/10/20 10:30  \\\n",
       "0      ...               779.0         779.0         830.0          830.0   \n",
       "1      ...               326.0         326.0         337.0          337.0   \n",
       "2      ...               446.0         450.0         468.0          473.0   \n",
       "3      ...               250.0         250.0         261.0          261.0   \n",
       "4      ...                79.0          79.0          83.0           83.0   \n",
       "\n",
       "   2/10/20 19:30  2/11/20 10:50  2/11/20 20:44  2/12/20 10:20  2/12/20 22:00  \\\n",
       "0          830.0            860            889            889            910   \n",
       "1          337.0            342            342            352            366   \n",
       "2          486.0            489            505            509            518   \n",
       "3          261.0            267            272            272            279   \n",
       "4           86.0             86             86             86             87   \n",
       "\n",
       "   2/13/20 10:00  \n",
       "0            910  \n",
       "1            366  \n",
       "2            525  \n",
       "3            279  \n",
       "4             87  \n",
       "\n",
       "[5 rows x 45 columns]"
      ]
     },
     "execution_count": 46,
     "metadata": {},
     "output_type": "execute_result"
    }
   ],
   "source": [
    "confirmed_df.head()"
   ]
  },
  {
   "cell_type": "code",
   "execution_count": 47,
   "metadata": {},
   "outputs": [],
   "source": [
    "confirmed_df_by_hours = confirmed_df.iloc[:, 2:].rename(columns=getHourDiff).fillna(0)\n",
    "death_df_by_hours = death_df.iloc[:, 2:].rename(columns=getHourDiff).fillna(0)\n",
    "recover_df_by_hours = recover_df.iloc[:, 2:].rename(columns=getHourDiff).fillna(0)"
   ]
  },
  {
   "cell_type": "code",
   "execution_count": 48,
   "metadata": {},
   "outputs": [
    {
     "data": {
      "text/html": [
       "<div>\n",
       "<style>\n",
       "    .dataframe thead tr:only-child th {\n",
       "        text-align: right;\n",
       "    }\n",
       "\n",
       "    .dataframe thead th {\n",
       "        text-align: left;\n",
       "    }\n",
       "\n",
       "    .dataframe tbody tr th {\n",
       "        vertical-align: top;\n",
       "    }\n",
       "</style>\n",
       "<table border=\"1\" class=\"dataframe\">\n",
       "  <thead>\n",
       "    <tr style=\"text-align: right;\">\n",
       "      <th></th>\n",
       "      <th>0.0</th>\n",
       "      <th>14.0</th>\n",
       "      <th>38.0</th>\n",
       "      <th>50.0</th>\n",
       "      <th>62.0</th>\n",
       "      <th>74.0</th>\n",
       "      <th>86.0</th>\n",
       "      <th>96.0</th>\n",
       "      <th>109.0</th>\n",
       "      <th>121.0</th>\n",
       "      <th>...</th>\n",
       "      <th>433.07</th>\n",
       "      <th>444.5</th>\n",
       "      <th>457.33</th>\n",
       "      <th>468.5</th>\n",
       "      <th>477.5</th>\n",
       "      <th>492.83</th>\n",
       "      <th>502.73</th>\n",
       "      <th>516.33</th>\n",
       "      <th>528.0</th>\n",
       "      <th>540.0</th>\n",
       "    </tr>\n",
       "  </thead>\n",
       "  <tbody>\n",
       "    <tr>\n",
       "      <th>0</th>\n",
       "      <td>0.0</td>\n",
       "      <td>1.0</td>\n",
       "      <td>9.0</td>\n",
       "      <td>15.0</td>\n",
       "      <td>15.0</td>\n",
       "      <td>39.0</td>\n",
       "      <td>39.0</td>\n",
       "      <td>60.0</td>\n",
       "      <td>60.0</td>\n",
       "      <td>70.0</td>\n",
       "      <td>...</td>\n",
       "      <td>779.0</td>\n",
       "      <td>779.0</td>\n",
       "      <td>830.0</td>\n",
       "      <td>830.0</td>\n",
       "      <td>830.0</td>\n",
       "      <td>860</td>\n",
       "      <td>889</td>\n",
       "      <td>889</td>\n",
       "      <td>910</td>\n",
       "      <td>910</td>\n",
       "    </tr>\n",
       "    <tr>\n",
       "      <th>1</th>\n",
       "      <td>10.0</td>\n",
       "      <td>14.0</td>\n",
       "      <td>22.0</td>\n",
       "      <td>26.0</td>\n",
       "      <td>36.0</td>\n",
       "      <td>36.0</td>\n",
       "      <td>41.0</td>\n",
       "      <td>51.0</td>\n",
       "      <td>68.0</td>\n",
       "      <td>68.0</td>\n",
       "      <td>...</td>\n",
       "      <td>326.0</td>\n",
       "      <td>326.0</td>\n",
       "      <td>337.0</td>\n",
       "      <td>337.0</td>\n",
       "      <td>337.0</td>\n",
       "      <td>342</td>\n",
       "      <td>342</td>\n",
       "      <td>352</td>\n",
       "      <td>366</td>\n",
       "      <td>366</td>\n",
       "    </tr>\n",
       "    <tr>\n",
       "      <th>2</th>\n",
       "      <td>5.0</td>\n",
       "      <td>6.0</td>\n",
       "      <td>9.0</td>\n",
       "      <td>27.0</td>\n",
       "      <td>27.0</td>\n",
       "      <td>57.0</td>\n",
       "      <td>57.0</td>\n",
       "      <td>75.0</td>\n",
       "      <td>75.0</td>\n",
       "      <td>110.0</td>\n",
       "      <td>...</td>\n",
       "      <td>446.0</td>\n",
       "      <td>450.0</td>\n",
       "      <td>468.0</td>\n",
       "      <td>473.0</td>\n",
       "      <td>486.0</td>\n",
       "      <td>489</td>\n",
       "      <td>505</td>\n",
       "      <td>509</td>\n",
       "      <td>518</td>\n",
       "      <td>525</td>\n",
       "    </tr>\n",
       "    <tr>\n",
       "      <th>3</th>\n",
       "      <td>0.0</td>\n",
       "      <td>1.0</td>\n",
       "      <td>5.0</td>\n",
       "      <td>5.0</td>\n",
       "      <td>10.0</td>\n",
       "      <td>10.0</td>\n",
       "      <td>18.0</td>\n",
       "      <td>18.0</td>\n",
       "      <td>35.0</td>\n",
       "      <td>35.0</td>\n",
       "      <td>...</td>\n",
       "      <td>250.0</td>\n",
       "      <td>250.0</td>\n",
       "      <td>261.0</td>\n",
       "      <td>261.0</td>\n",
       "      <td>261.0</td>\n",
       "      <td>267</td>\n",
       "      <td>272</td>\n",
       "      <td>272</td>\n",
       "      <td>279</td>\n",
       "      <td>279</td>\n",
       "    </tr>\n",
       "    <tr>\n",
       "      <th>4</th>\n",
       "      <td>0.0</td>\n",
       "      <td>0.0</td>\n",
       "      <td>2.0</td>\n",
       "      <td>2.0</td>\n",
       "      <td>2.0</td>\n",
       "      <td>4.0</td>\n",
       "      <td>4.0</td>\n",
       "      <td>7.0</td>\n",
       "      <td>7.0</td>\n",
       "      <td>14.0</td>\n",
       "      <td>...</td>\n",
       "      <td>79.0</td>\n",
       "      <td>79.0</td>\n",
       "      <td>83.0</td>\n",
       "      <td>83.0</td>\n",
       "      <td>86.0</td>\n",
       "      <td>86</td>\n",
       "      <td>86</td>\n",
       "      <td>86</td>\n",
       "      <td>87</td>\n",
       "      <td>87</td>\n",
       "    </tr>\n",
       "  </tbody>\n",
       "</table>\n",
       "<p>5 rows × 43 columns</p>\n",
       "</div>"
      ],
      "text/plain": [
       "   0.00    14.00   38.00   50.00   62.00   74.00   86.00   96.00   109.00  \\\n",
       "0     0.0     1.0     9.0    15.0    15.0    39.0    39.0    60.0    60.0   \n",
       "1    10.0    14.0    22.0    26.0    36.0    36.0    41.0    51.0    68.0   \n",
       "2     5.0     6.0     9.0    27.0    27.0    57.0    57.0    75.0    75.0   \n",
       "3     0.0     1.0     5.0     5.0    10.0    10.0    18.0    18.0    35.0   \n",
       "4     0.0     0.0     2.0     2.0     2.0     4.0     4.0     7.0     7.0   \n",
       "\n",
       "   121.00   ...    433.07  444.50  457.33  468.50  477.50  492.83  502.73  \\\n",
       "0    70.0   ...     779.0   779.0   830.0   830.0   830.0     860     889   \n",
       "1    68.0   ...     326.0   326.0   337.0   337.0   337.0     342     342   \n",
       "2   110.0   ...     446.0   450.0   468.0   473.0   486.0     489     505   \n",
       "3    35.0   ...     250.0   250.0   261.0   261.0   261.0     267     272   \n",
       "4    14.0   ...      79.0    79.0    83.0    83.0    86.0      86      86   \n",
       "\n",
       "   516.33  528.00  540.00  \n",
       "0     889     910     910  \n",
       "1     352     366     366  \n",
       "2     509     518     525  \n",
       "3     272     279     279  \n",
       "4      86      87      87  \n",
       "\n",
       "[5 rows x 43 columns]"
      ]
     },
     "execution_count": 48,
     "metadata": {},
     "output_type": "execute_result"
    }
   ],
   "source": [
    "confirmed_df_by_hours.head()"
   ]
  },
  {
   "cell_type": "code",
   "execution_count": 49,
   "metadata": {},
   "outputs": [],
   "source": [
    "confirmed_df_by_days = confirmed_df.iloc[:, 2:].rename(columns=getDayDiff).fillna(0)\n",
    "death_df_by_days = death_df.iloc[:, 2:].rename(columns=getDayDiff).fillna(0)\n",
    "recover_df_by_days = recover_df.iloc[:, 2:].rename(columns=getDayDiff).fillna(0)"
   ]
  },
  {
   "cell_type": "code",
   "execution_count": 50,
   "metadata": {},
   "outputs": [
    {
     "data": {
      "text/html": [
       "<div>\n",
       "<style>\n",
       "    .dataframe thead tr:only-child th {\n",
       "        text-align: right;\n",
       "    }\n",
       "\n",
       "    .dataframe thead th {\n",
       "        text-align: left;\n",
       "    }\n",
       "\n",
       "    .dataframe tbody tr th {\n",
       "        vertical-align: top;\n",
       "    }\n",
       "</style>\n",
       "<table border=\"1\" class=\"dataframe\">\n",
       "  <thead>\n",
       "    <tr style=\"text-align: right;\">\n",
       "      <th></th>\n",
       "      <th>0.0</th>\n",
       "      <th>0.58</th>\n",
       "      <th>1.58</th>\n",
       "      <th>2.08</th>\n",
       "      <th>2.58</th>\n",
       "      <th>3.08</th>\n",
       "      <th>3.58</th>\n",
       "      <th>4.0</th>\n",
       "      <th>4.54</th>\n",
       "      <th>5.04</th>\n",
       "      <th>...</th>\n",
       "      <th>18.04</th>\n",
       "      <th>18.52</th>\n",
       "      <th>19.06</th>\n",
       "      <th>19.52</th>\n",
       "      <th>19.9</th>\n",
       "      <th>20.53</th>\n",
       "      <th>20.95</th>\n",
       "      <th>21.51</th>\n",
       "      <th>22.0</th>\n",
       "      <th>22.5</th>\n",
       "    </tr>\n",
       "  </thead>\n",
       "  <tbody>\n",
       "    <tr>\n",
       "      <th>0</th>\n",
       "      <td>0.0</td>\n",
       "      <td>0.0</td>\n",
       "      <td>0.0</td>\n",
       "      <td>0.0</td>\n",
       "      <td>0.0</td>\n",
       "      <td>0.0</td>\n",
       "      <td>0.0</td>\n",
       "      <td>0.0</td>\n",
       "      <td>0.0</td>\n",
       "      <td>0.0</td>\n",
       "      <td>...</td>\n",
       "      <td>59.0</td>\n",
       "      <td>72.0</td>\n",
       "      <td>73.0</td>\n",
       "      <td>88.0</td>\n",
       "      <td>88.0</td>\n",
       "      <td>105</td>\n",
       "      <td>108</td>\n",
       "      <td>127</td>\n",
       "      <td>128</td>\n",
       "      <td>157</td>\n",
       "    </tr>\n",
       "    <tr>\n",
       "      <th>1</th>\n",
       "      <td>0.0</td>\n",
       "      <td>0.0</td>\n",
       "      <td>0.0</td>\n",
       "      <td>0.0</td>\n",
       "      <td>1.0</td>\n",
       "      <td>1.0</td>\n",
       "      <td>2.0</td>\n",
       "      <td>2.0</td>\n",
       "      <td>2.0</td>\n",
       "      <td>2.0</td>\n",
       "      <td>...</td>\n",
       "      <td>37.0</td>\n",
       "      <td>37.0</td>\n",
       "      <td>44.0</td>\n",
       "      <td>44.0</td>\n",
       "      <td>44.0</td>\n",
       "      <td>48</td>\n",
       "      <td>48</td>\n",
       "      <td>56</td>\n",
       "      <td>68</td>\n",
       "      <td>69</td>\n",
       "    </tr>\n",
       "    <tr>\n",
       "      <th>2</th>\n",
       "      <td>0.0</td>\n",
       "      <td>0.0</td>\n",
       "      <td>0.0</td>\n",
       "      <td>0.0</td>\n",
       "      <td>0.0</td>\n",
       "      <td>0.0</td>\n",
       "      <td>0.0</td>\n",
       "      <td>0.0</td>\n",
       "      <td>0.0</td>\n",
       "      <td>0.0</td>\n",
       "      <td>...</td>\n",
       "      <td>39.0</td>\n",
       "      <td>50.0</td>\n",
       "      <td>51.0</td>\n",
       "      <td>66.0</td>\n",
       "      <td>66.0</td>\n",
       "      <td>72</td>\n",
       "      <td>79</td>\n",
       "      <td>87</td>\n",
       "      <td>102</td>\n",
       "      <td>128</td>\n",
       "    </tr>\n",
       "    <tr>\n",
       "      <th>3</th>\n",
       "      <td>0.0</td>\n",
       "      <td>0.0</td>\n",
       "      <td>0.0</td>\n",
       "      <td>0.0</td>\n",
       "      <td>0.0</td>\n",
       "      <td>0.0</td>\n",
       "      <td>0.0</td>\n",
       "      <td>0.0</td>\n",
       "      <td>0.0</td>\n",
       "      <td>0.0</td>\n",
       "      <td>...</td>\n",
       "      <td>26.0</td>\n",
       "      <td>35.0</td>\n",
       "      <td>35.0</td>\n",
       "      <td>39.0</td>\n",
       "      <td>39.0</td>\n",
       "      <td>45</td>\n",
       "      <td>46</td>\n",
       "      <td>53</td>\n",
       "      <td>54</td>\n",
       "      <td>57</td>\n",
       "    </tr>\n",
       "    <tr>\n",
       "      <th>4</th>\n",
       "      <td>0.0</td>\n",
       "      <td>0.0</td>\n",
       "      <td>0.0</td>\n",
       "      <td>0.0</td>\n",
       "      <td>0.0</td>\n",
       "      <td>0.0</td>\n",
       "      <td>0.0</td>\n",
       "      <td>0.0</td>\n",
       "      <td>0.0</td>\n",
       "      <td>0.0</td>\n",
       "      <td>...</td>\n",
       "      <td>12.0</td>\n",
       "      <td>15.0</td>\n",
       "      <td>16.0</td>\n",
       "      <td>17.0</td>\n",
       "      <td>21.0</td>\n",
       "      <td>24</td>\n",
       "      <td>24</td>\n",
       "      <td>29</td>\n",
       "      <td>31</td>\n",
       "      <td>34</td>\n",
       "    </tr>\n",
       "  </tbody>\n",
       "</table>\n",
       "<p>5 rows × 43 columns</p>\n",
       "</div>"
      ],
      "text/plain": [
       "   0.00   0.58   1.58   2.08   2.58   3.08   3.58   4.00   4.54   5.04   \\\n",
       "0    0.0    0.0    0.0    0.0    0.0    0.0    0.0    0.0    0.0    0.0   \n",
       "1    0.0    0.0    0.0    0.0    1.0    1.0    2.0    2.0    2.0    2.0   \n",
       "2    0.0    0.0    0.0    0.0    0.0    0.0    0.0    0.0    0.0    0.0   \n",
       "3    0.0    0.0    0.0    0.0    0.0    0.0    0.0    0.0    0.0    0.0   \n",
       "4    0.0    0.0    0.0    0.0    0.0    0.0    0.0    0.0    0.0    0.0   \n",
       "\n",
       "   ...    18.04  18.52  19.06  19.52  19.90  20.53  20.95  21.51  22.00  22.50  \n",
       "0  ...     59.0   72.0   73.0   88.0   88.0    105    108    127    128    157  \n",
       "1  ...     37.0   37.0   44.0   44.0   44.0     48     48     56     68     69  \n",
       "2  ...     39.0   50.0   51.0   66.0   66.0     72     79     87    102    128  \n",
       "3  ...     26.0   35.0   35.0   39.0   39.0     45     46     53     54     57  \n",
       "4  ...     12.0   15.0   16.0   17.0   21.0     24     24     29     31     34  \n",
       "\n",
       "[5 rows x 43 columns]"
      ]
     },
     "execution_count": 50,
     "metadata": {},
     "output_type": "execute_result"
    }
   ],
   "source": [
    "recover_df_by_days.head()"
   ]
  },
  {
   "cell_type": "code",
   "execution_count": 51,
   "metadata": {},
   "outputs": [],
   "source": [
    "starting_date = \"1/21/20 22:00\""
   ]
  },
  {
   "cell_type": "code",
   "execution_count": 52,
   "metadata": {},
   "outputs": [],
   "source": [
    "def getHours(cur_date):\n",
    "    date, hr = cur_date.split(\" \")\n",
    "    m, d, y = date.split(\"/\")\n",
    "    hr, min = hr.split(\":\")\n",
    "    return int(hr) + (int(min)/60) + (int(m)*31+int(d))*24"
   ]
  },
  {
   "cell_type": "code",
   "execution_count": 53,
   "metadata": {},
   "outputs": [],
   "source": [
    "def getHourDiff(cur_date, start_date=starting_date):\n",
    "    return round(getHours(cur_date)-getHours(start_date), 2)\n",
    "\n",
    "def getDayDiff(cur_date, start_date=starting_date):\n",
    "    return round(getHourDiff(cur_date, start_date) / 24, 2)\n",
    "\n",
    "def getNormalizedDate(cur_date, start_date=starting_date):\n",
    "    day = getDayDiff(cur_date, start_date) + 21.92\n",
    "    month = 1\n",
    "    while day > 31:\n",
    "        month += 1\n",
    "        day -= 31\n",
    "    return \"{}-{:02}\".format(month, round(day))\n",
    "    "
   ]
  },
  {
   "cell_type": "code",
   "execution_count": 54,
   "metadata": {},
   "outputs": [
    {
     "data": {
      "text/plain": [
       "'1-27'"
      ]
     },
     "execution_count": 54,
     "metadata": {},
     "output_type": "execute_result"
    }
   ],
   "source": [
    "getNormalizedDate(\"01/27/20 10:06\")"
   ]
  },
  {
   "cell_type": "code",
   "execution_count": 56,
   "metadata": {},
   "outputs": [],
   "source": [
    "name2index = {}\n",
    "index2state = {}\n",
    "for index in range(len(confirmed_df)):\n",
    "    country, state = confirmed_df.iloc[index, 1], confirmed_df.iloc[index, 0]\n",
    "    if pd.isnull(confirmed_df.iloc[index, 0]):\n",
    "        name = country\n",
    "    else:\n",
    "        name = country + \"_\" + state\n",
    "    name2index[name] = index\n",
    "    index2state[index] = name"
   ]
  },
  {
   "cell_type": "markdown",
   "metadata": {},
   "source": [
    "## 确诊人数(Confirmed Cases)"
   ]
  },
  {
   "cell_type": "code",
   "execution_count": 57,
   "metadata": {},
   "outputs": [
    {
     "data": {
      "image/png": "[encoded data removed]",
      "text/plain": [
       "<Figure size 576x432 with 1 Axes>"
      ]
     },
     "metadata": {
      "needs_background": "light"
     },
     "output_type": "display_data"
    }
   ],
   "source": [
    "name = \"Mainland China_Hubei\"\n",
    "temp_df = confirmed_df_by_hours.iloc[name2index[name],:];\n",
    "plt.figure(figsize=(8,6))\n",
    "temp_df.plot(title=name, marker='.', markersize=10)\n",
    "plt.xlabel(\"hours\")\n",
    "plt.ylabel(\"confirmed cases\")\n",
    "plt.show()"
   ]
  },
  {
   "cell_type": "code",
   "execution_count": 58,
   "metadata": {},
   "outputs": [
    {
     "data": {
      "image/png": "[encoded data removed]",
      "text/plain": [
       "<Figure size 576x432 with 1 Axes>"
      ]
     },
     "metadata": {
      "needs_background": "light"
     },
     "output_type": "display_data"
    }
   ],
   "source": [
    "name = \"Mainland China_Hubei\"\n",
    "temp_df = confirmed_df_by_days.iloc[name2index[name], :];\n",
    "plt.figure(figsize=(8,6))\n",
    "temp_df.plot(title=name, marker='.', markersize=10)\n",
    "plt.xlabel(\"days\")\n",
    "plt.ylabel(\"confirmed cases\")\n",
    "plt.show()"
   ]
  },
  {
   "cell_type": "markdown",
   "metadata": {},
   "source": [
    "## 死亡人数(Death Cases)"
   ]
  },
  {
   "cell_type": "code",
   "execution_count": 59,
   "metadata": {},
   "outputs": [
    {
     "data": {
      "image/png": "[encoded data removed]",
      "text/plain": [
       "<Figure size 576x432 with 1 Axes>"
      ]
     },
     "metadata": {
      "needs_background": "light"
     },
     "output_type": "display_data"
    }
   ],
   "source": [
    "name = \"Mainland China_Hubei\"\n",
    "temp_df = death_df_by_days.iloc[name2index[name], :];\n",
    "plt.figure(figsize=(8,6))\n",
    "temp_df.plot(title=name, marker='.', markersize=10)\n",
    "plt.xlabel(\"days\")\n",
    "plt.ylabel(\"death cases\")\n",
    "plt.show()"
   ]
  },
  {
   "cell_type": "markdown",
   "metadata": {},
   "source": [
    "## 死亡率(Death Rate)"
   ]
  },
  {
   "cell_type": "code",
   "execution_count": 60,
   "metadata": {},
   "outputs": [
    {
     "data": {
      "image/png": "[encoded data removed]",
      "text/plain": [
       "<Figure size 576x432 with 1 Axes>"
      ]
     },
     "metadata": {
      "needs_background": "light"
     },
     "output_type": "display_data"
    }
   ],
   "source": [
    "name = \"Mainland China_Hubei\"\n",
    "plt.figure(figsize=(8,6))\n",
    "no_delay_rate = 100*death_df_by_days.iloc[name2index[name], :]/confirmed_df_by_days.iloc[name2index[name], :]\n",
    "plt.plot(no_delay_rate, marker='.', markersize=10)\n",
    "plt.xlabel(\"days\")\n",
    "plt.ylabel(\"mortality\")\n",
    "plt.ylim(0, 8);\n",
    "plt.title(name + \" (No Delay)\")\n",
    "plt.savefig('hubei_no_delay.png')\n",
    "plt.show()\n"
   ]
  },
  {
   "cell_type": "code",
   "execution_count": 387,
   "metadata": {},
   "outputs": [
    {
     "data": {
      "text/plain": [
       "<Figure size 432x288 with 0 Axes>"
      ]
     },
     "metadata": {},
     "output_type": "display_data"
    }
   ],
   "source": []
  },
  {
   "cell_type": "code",
   "execution_count": 61,
   "metadata": {},
   "outputs": [],
   "source": [
    "DELAY_DAYS = 3"
   ]
  },
  {
   "cell_type": "code",
   "execution_count": 62,
   "metadata": {},
   "outputs": [],
   "source": [
    "index2earlierIndex = {}\n",
    "visited_days = []\n",
    "ptr = 0\n",
    "for index, day in enumerate(death_df_by_days):\n",
    "    if day - DELAY_DAYS >= 0:\n",
    "        target_day = day - DELAY_DAYS\n",
    "        while ptr < len(visited_days):\n",
    "            if visited_days[ptr] <= target_day <= visited_days[ptr+1]:\n",
    "                if target_day - visited_days[ptr] <= visited_days[ptr+1] - target_day:\n",
    "                    index2earlierIndex[index] = ptr\n",
    "                else:\n",
    "                    index2earlierIndex[index] = ptr + 1\n",
    "                break\n",
    "            else:\n",
    "                ptr += 1\n",
    "    else:\n",
    "        index2earlierIndex[index] = None\n",
    "    visited_days.append(day)"
   ]
  },
  {
   "cell_type": "code",
   "execution_count": 63,
   "metadata": {},
   "outputs": [],
   "source": [
    "actual_rate = []\n",
    "cur_rate = None\n",
    "for index in sorted(index2earlierIndex.keys()):\n",
    "    earlier_index = index2earlierIndex[index]\n",
    "    if earlier_index:\n",
    "        confirm_case = confirmed_df_by_days.iloc[name2index[name], earlier_index]\n",
    "        death = death_df_by_days.iloc[name2index[name], index]\n",
    "        cur_rate = round(death/confirm_case*100, 2)\n",
    "    actual_rate.append(cur_rate)\n",
    "    "
   ]
  },
  {
   "cell_type": "code",
   "execution_count": 339,
   "metadata": {},
   "outputs": [
    {
     "data": {
      "image/png": "[encoded data removed]",
      "text/plain": [
       "<Figure size 576x432 with 1 Axes>"
      ]
     },
     "metadata": {
      "needs_background": "light"
     },
     "output_type": "display_data"
    }
   ],
   "source": [
    "name = \"Mainland China_Hubei\"\n",
    "plt.figure(figsize=(8,6))\n",
    "plt.plot(visited_days, actual_rate, marker='.', markersize=10)\n",
    "plt.xlabel(\"days\")\n",
    "plt.ylabel(\"death rate\")\n",
    "plt.ylim(0, 20);\n",
    "plt.title(name + \" (3 Day Delay)\")\n",
    "plt.show()"
   ]
  },
  {
   "cell_type": "code",
   "execution_count": 64,
   "metadata": {},
   "outputs": [],
   "source": [
    "DELAY_DAYS = 7"
   ]
  },
  {
   "cell_type": "code",
   "execution_count": 65,
   "metadata": {},
   "outputs": [],
   "source": [
    "index2earlierIndex = {}\n",
    "visited_days = []\n",
    "ptr = 0\n",
    "name = \"Mainland China_Hubei\"\n",
    "for index, day in enumerate(death_df_by_days):\n",
    "    if day - DELAY_DAYS >= 0:\n",
    "        target_day = day - DELAY_DAYS\n",
    "        while ptr < len(visited_days):\n",
    "            if visited_days[ptr] <= target_day <= visited_days[ptr+1]:\n",
    "                if target_day - visited_days[ptr] <= visited_days[ptr+1] - target_day:\n",
    "                    index2earlierIndex[index] = ptr\n",
    "                else:\n",
    "                    index2earlierIndex[index] = ptr + 1\n",
    "                break\n",
    "            else:\n",
    "                ptr += 1\n",
    "    else:\n",
    "        index2earlierIndex[index] = None\n",
    "    visited_days.append(day)"
   ]
  },
  {
   "cell_type": "code",
   "execution_count": 66,
   "metadata": {},
   "outputs": [],
   "source": [
    "actual_rate = []\n",
    "cur_rate = None\n",
    "for index in sorted(index2earlierIndex.keys()):\n",
    "    earlier_index = index2earlierIndex[index]\n",
    "    if earlier_index:\n",
    "        confirm_case = confirmed_df_by_days.iloc[name2index[name], earlier_index]\n",
    "        death = death_df_by_days.iloc[name2index[name], index]\n",
    "        cur_rate = round(death/confirm_case*100, 2)\n",
    "    actual_rate.append(cur_rate)"
   ]
  },
  {
   "cell_type": "code",
   "execution_count": 67,
   "metadata": {},
   "outputs": [
    {
     "data": {
      "image/png": "[encoded data removed]",
      "text/plain": [
       "<Figure size 576x432 with 1 Axes>"
      ]
     },
     "metadata": {
      "needs_background": "light"
     },
     "output_type": "display_data"
    }
   ],
   "source": [
    "name = \"Mainland China_Hubei\"\n",
    "plt.figure(figsize=(8,6))\n",
    "plt.plot(visited_days, actual_rate, marker='.', markersize=10)\n",
    "plt.xlabel(\"days\")\n",
    "plt.ylabel(\"mortality\")\n",
    "plt.ylim(0, 50);\n",
    "plt.title(\"{} ({} Day Delay)\".format(name, DELAY_DAYS))\n",
    "plt.savefig('hubei_7_day.png')\n",
    "plt.show()"
   ]
  },
  {
   "cell_type": "code",
   "execution_count": null,
   "metadata": {},
   "outputs": [],
   "source": []
  },
  {
   "cell_type": "code",
   "execution_count": 68,
   "metadata": {},
   "outputs": [
    {
     "data": {
      "image/png": "[encoded data removed]",
      "text/plain": [
       "<Figure size 576x432 with 1 Axes>"
      ]
     },
     "metadata": {
      "needs_background": "light"
     },
     "output_type": "display_data"
    }
   ],
   "source": [
    "name = \"Mainland China_Henan\"\n",
    "actual_rate = []\n",
    "cur_rate = None\n",
    "for index in sorted(index2earlierIndex.keys()):\n",
    "    earlier_index = index2earlierIndex[index]\n",
    "    if earlier_index:\n",
    "        confirm_case = confirmed_df_by_days.iloc[name2index[name], earlier_index]\n",
    "        death = death_df_by_days.iloc[name2index[name], index]\n",
    "        cur_rate = round(death/confirm_case*100, 2)\n",
    "    actual_rate.append(cur_rate)\n",
    "plt.figure(figsize=(8,6))\n",
    "plt.plot(visited_days, actual_rate, marker='.', markersize=10)\n",
    "plt.xlabel(\"days\")\n",
    "plt.ylabel(\"mortality\")\n",
    "plt.ylim(0, 50);\n",
    "plt.title(\"{} ({} Day Delay)\".format(name, DELAY_DAYS))\n",
    "plt.show()"
   ]
  },
  {
   "cell_type": "code",
   "execution_count": 69,
   "metadata": {},
   "outputs": [
    {
     "data": {
      "image/png": "[encoded data removed]",
      "text/plain": [
       "<Figure size 576x432 with 1 Axes>"
      ]
     },
     "metadata": {
      "needs_background": "light"
     },
     "output_type": "display_data"
    }
   ],
   "source": [
    "name = \"Mainland China_Heilongjiang\"\n",
    "actual_rate = []\n",
    "cur_rate = None\n",
    "for index in sorted(index2earlierIndex.keys()):\n",
    "    earlier_index = index2earlierIndex[index]\n",
    "    if earlier_index:\n",
    "        confirm_case = confirmed_df_by_days.iloc[name2index[name], earlier_index]\n",
    "        death = death_df_by_days.iloc[name2index[name], index]\n",
    "        if death <= confirm_case:\n",
    "            cur_rate = round(death/confirm_case*100, 2)\n",
    "    actual_rate.append(cur_rate)\n",
    "plt.figure(figsize=(8,6))\n",
    "plt.plot(visited_days, actual_rate, marker='.', markersize=10)\n",
    "plt.xlabel(\"days\")\n",
    "plt.ylabel(\"mortality\")\n",
    "plt.title(\"{} ({} Day Delay)\".format(name, DELAY_DAYS))\n",
    "plt.show()"
   ]
  },
  {
   "cell_type": "code",
   "execution_count": 409,
   "metadata": {},
   "outputs": [
    {
     "data": {
      "image/png": "[encoded data removed]",
      "text/plain": [
       "<Figure size 576x432 with 1 Axes>"
      ]
     },
     "metadata": {
      "needs_background": "light"
     },
     "output_type": "display_data"
    }
   ],
   "source": [
    "name = \"Mainland China\"\n",
    "actual_rate = []\n",
    "cur_rate = None\n",
    "for index in sorted(index2earlierIndex.keys()):\n",
    "    earlier_index = index2earlierIndex[index]\n",
    "    if earlier_index:\n",
    "        confirm_case = death = 0\n",
    "        for keyName in name2index:\n",
    "            if keyName.startswith(\"Mainland China\"):\n",
    "                confirm_case += confirmed_df_by_days.iloc[name2index[keyName], earlier_index]\n",
    "                death += death_df_by_days.iloc[name2index[keyName], index]\n",
    "        if death <= confirm_case:\n",
    "            cur_rate = round(death/confirm_case*100, 2)\n",
    "    actual_rate.append(cur_rate)\n",
    "plt.figure(figsize=(8,6))\n",
    "plt.plot(visited_days, actual_rate, marker='.', markersize=10)\n",
    "plt.xlabel(\"days\")\n",
    "plt.ylabel(\"mortality\")\n",
    "plt.ylim(0, 40);\n",
    "plt.title(\"{} ({} Day Delay)\".format(name, DELAY_DAYS))\n",
    "plt.savefig('Mainland_China_7_day.png')\n",
    "\n",
    "plt.show()"
   ]
  },
  {
   "cell_type": "code",
   "execution_count": 70,
   "metadata": {},
   "outputs": [
    {
     "data": {
      "image/png": "[encoded data removed]",
      "text/plain": [
       "<Figure size 576x432 with 1 Axes>"
      ]
     },
     "metadata": {
      "needs_background": "light"
     },
     "output_type": "display_data"
    }
   ],
   "source": [
    "name = \"Mainland China (Outside Hubei)\"\n",
    "actual_rate = []\n",
    "cur_rate = None\n",
    "for index in sorted(index2earlierIndex.keys()):\n",
    "    earlier_index = index2earlierIndex[index]\n",
    "    if earlier_index:\n",
    "        confirm_case = death = 0\n",
    "        for keyName in name2index:\n",
    "            if keyName.startswith(\"Mainland China\") and not keyName.endswith(\"Hubei\"):\n",
    "                confirm_case += confirmed_df_by_days.iloc[name2index[keyName], earlier_index]\n",
    "                death += death_df_by_days.iloc[name2index[keyName], index]\n",
    "        if death <= confirm_case:\n",
    "            cur_rate = round(death/confirm_case*100, 2)\n",
    "    actual_rate.append(cur_rate)\n",
    "plt.figure(figsize=(8,6))\n",
    "plt.plot(visited_days, actual_rate, marker='.', markersize=10)\n",
    "plt.xlabel(\"days\")\n",
    "plt.ylabel(\"mortality\")\n",
    "plt.ylim(0, 12);\n",
    "plt.title(\"{} ({} Day Delay)\".format(name, DELAY_DAYS))\n",
    "plt.savefig('Mainland_China_Except_Hubei_7_day.png')\n",
    "plt.show()"
   ]
  },
  {
   "cell_type": "code",
   "execution_count": null,
   "metadata": {},
   "outputs": [],
   "source": []
  }
 ],
 "metadata": {
  "kernelspec": {
   "display_name": "Python 3",
   "language": "python",
   "name": "python3"
  },
  "language_info": {
   "codemirror_mode": {
    "name": "ipython",
    "version": 3
   },
   "file_extension": ".py",
   "mimetype": "text/x-python",
   "name": "python",
   "nbconvert_exporter": "python",
   "pygments_lexer": "ipython3",
   "version": "3.6.8"
  }
 },
 "nbformat": 4,
 "nbformat_minor": 2
}
